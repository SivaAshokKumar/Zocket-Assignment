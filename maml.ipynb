import numpy as np
import pandas as pd
import yfinance as yf
import tensorflow as tf
from tensorflow.keras.models import Sequential
from tensorflow.keras.layers import LSTM, Dense
from sklearn.preprocessing import MinMaxScaler
from datetime import datetime, timedelta

# --- Step 1: Fetch Historical Data Using Yahoo Finance API ---
def fetch_stock_data(ticker, start_date, end_date):
    stock_data = yf.download(ticker, start=start_date, end=end_date)
    return stock_data["Close"].values.reshape(-1, 1)

# Fetch TCS stock data
ticker = "TCS.NS"  # TCS stock on NSE
start_date = "2010-01-01"
end_date = "2023-10-01"
stock_prices = fetch_stock_data(ticker, start_date, end_date)

# Normalize the data
scaler = MinMaxScaler(feature_range=(0, 1))
scaled_prices = scaler.fit_transform(stock_prices)

# Create sequences for LSTM
def create_sequences(data, seq_length):
    X, y = [], []
    for i in range(len(data) - seq_length):
        X.append(data[i:i + seq_length])
        y.append(data[i + seq_length])
    return np.array(X), np.array(y)

seq_length = 60  # Use 60 days of data to predict the next day
X, y = create_sequences(scaled_prices, seq_length)

# Split into training and testing sets
split = int(0.8 * len(X))
X_train, X_test = X[:split], X[split:]
y_train, y_test = y[:split], y[split:]

# --- Step 2: Build a Base LSTM Model ---
def build_lstm_model():
    model = Sequential([
        LSTM(50, return_sequences=True, input_shape=(seq_length, 1)),
        LSTM(50, return_sequences=False),
        Dense(25),
        Dense(1)
    ])
    model.compile(optimizer="adam", loss="mean_squared_error")
    return model

# --- Step 3: Implement MAML ---
class MAML:
    def __init__(self, model, inner_lr=0.01, outer_lr=0.001):
        self.model = model
        self.inner_lr = inner_lr
        self.outer_lr = outer_lr
        self.optimizer = tf.keras.optimizers.Adam(learning_rate=outer_lr)

    def train_step(self, task_data):
        X_train, y_train, X_test, y_test = task_data
        with tf.GradientTape() as tape:
            # Inner loop: Adapt to the task
            predictions = self.model(X_train)
            loss = tf.reduce_mean(tf.square(y_train - predictions))
        gradients = tape.gradient(loss, self.model.trainable_variables)
        self.optimizer.apply_gradients(zip(gradients, self.model.trainable_variables))

        # Outer loop: Evaluate on the test set
        test_predictions = self.model(X_test)
        test_loss = tf.reduce_mean(tf.square(y_test - test_predictions))
        return test_loss

# Initialize MAML
lstm_model = build_lstm_model()
maml = MAML(lstm_model)

# Meta-training loop
for epoch in range(10):  # Number of meta-epochs
    task_data = (X_train, y_train, X_test, y_test)  # In practice, use multiple tasks
    loss = maml.train_step(task_data)
    print(f"Meta-Epoch {epoch + 1}, Meta-Loss: {loss.numpy()}")

# --- Step 4: Predict Future Prices for 2025, 2026, 2027 ---
def predict_future_prices(model, last_sequence, future_dates):
    predictions = []
    current_sequence = last_sequence.copy()

    for _ in range(len(future_dates)):
        # Predict the next price
        next_price = model.predict(current_sequence.reshape(1, seq_length, 1))
        predictions.append(next_price[0][0])

        # Update the sequence
        current_sequence = np.roll(current_sequence, -1)
        current_sequence[-1] = next_price

    # Inverse transform to get actual prices
    predictions = scaler.inverse_transform(np.array(predictions).reshape(-1, 1))
    return predictions

# Define future months for prediction
future_dates = pd.date_range(start="2025-01-01", end="2027-12-31", freq="MS")  # Monthly start dates

# Get the last sequence from the dataset
last_sequence = X_test[-1]

# Predict future prices
future_predictions = predict_future_prices(lstm_model, last_sequence, future_dates)

# Create a DataFrame for predictions
future_predictions_df = pd.DataFrame({
    "Date": future_dates,
    "Predicted Price": future_predictions.flatten()
})

print(future_predictions_df)

# --- Step 5: Visualize Predictions ---
import matplotlib.pyplot as plt

plt.figure(figsize=(12, 6))
plt.plot(future_predictions_df["Date"], future_predictions_df["Predicted Price"], label="Predicted Prices")
plt.title(f"TCS Stock Price Predictions (2025-2027)")
plt.xlabel("Date")
plt.ylabel("Price (INR)")
plt.legend()
plt.grid()
plt.show()
